{
 "cells": [
  {
   "cell_type": "code",
   "execution_count": 6,
   "metadata": {},
   "outputs": [],
   "source": [
    "import imageio as img\n",
    "from PIL import Image\n",
    "import cv2 as cv\n",
    "\n",
    "# Read the grayscale image using imageio\n",
    "imGray = img.imread(\"./test_gray2.jpg\")\n",
    "\n",
    "# Adaptive binarization of the image using openCV (cv2) module \n",
    "binarizeIm = cv.adaptiveThreshold(src=imGray, maxValue=255, adaptiveMethod=cv.ADAPTIVE_THRESH_GAUSSIAN_C,\n",
    "                                          thresholdType=cv.THRESH_BINARY, blockSize=39, C=15)\n",
    "\n",
    "# Just reading the input image again because you need that as an argument in the fastNlMeansDenoising() function\n",
    "means_denoising = img.imread(\"./test_gray2.jpg\")\n",
    "\n",
    "# Doing the non-local means denoising function from the opencv library h should be 30.0 if the src is a gray image, and \n",
    "# 60.0 if the image is binarized\n",
    "cv.fastNlMeansDenoising(src=imGray,dst=means_denoising,h=30.0, templateWindowSize=7, searchWindowSize=21)\n",
    "\n",
    "# Saving the biniarized and blured image\n",
    "im = Image.fromarray(means_denoising)\n",
    "im.save(\"./means_denoising_gray.jpg\")"
   ]
  },
  {
   "cell_type": "code",
   "execution_count": null,
   "metadata": {},
   "outputs": [],
   "source": []
  }
 ],
 "metadata": {
  "kernelspec": {
   "display_name": "Python 3",
   "language": "python",
   "name": "python3"
  },
  "language_info": {
   "codemirror_mode": {
    "name": "ipython",
    "version": 3
   },
   "file_extension": ".py",
   "mimetype": "text/x-python",
   "name": "python",
   "nbconvert_exporter": "python",
   "pygments_lexer": "ipython3",
   "version": "3.8.5"
  }
 },
 "nbformat": 4,
 "nbformat_minor": 4
}
