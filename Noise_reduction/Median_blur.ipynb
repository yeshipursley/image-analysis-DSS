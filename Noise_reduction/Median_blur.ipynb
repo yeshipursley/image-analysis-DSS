{
 "cells": [
  {
   "cell_type": "code",
   "execution_count": null,
   "metadata": {},
   "outputs": [],
   "source": [
    "import imageio as img\n",
    "from PIL import Image\n",
    "import cv2 as cv\n",
    "\n",
    "# Read the grayscale image using imageio\n",
    "imGray = img.imread(\"./test_gray2.jpg\")\n",
    "\n",
    "# Adaptive binarization of the image using openCV (cv2) module \n",
    "binarizeIm = cv.adaptiveThreshold(src=imGray, maxValue=255, adaptiveMethod=cv.ADAPTIVE_THRESH_GAUSSIAN_C,\n",
    "                                          thresholdType=cv.THRESH_BINARY, blockSize=39, C=15)\n",
    "\n",
    "# Doing median blur on the binarized image\n",
    "median = cv.medianBlur(binarizeIm, 5)\n",
    "\n",
    "# Saving the biniarized and blured image\n",
    "im = Image.fromarray(median)\n",
    "im.save(\"./median_blur.jpg\")"
   ]
  }
 ],
 "metadata": {
  "kernelspec": {
   "display_name": "Python 3",
   "language": "python",
   "name": "python3"
  },
  "language_info": {
   "codemirror_mode": {
    "name": "ipython",
    "version": 3
   },
   "file_extension": ".py",
   "mimetype": "text/x-python",
   "name": "python",
   "nbconvert_exporter": "python",
   "pygments_lexer": "ipython3",
   "version": "3.8.5"
  }
 },
 "nbformat": 4,
 "nbformat_minor": 4
}
