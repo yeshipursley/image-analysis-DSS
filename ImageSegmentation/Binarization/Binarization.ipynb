{
 "cells": [
  {
   "cell_type": "code",
   "execution_count": 5,
   "metadata": {},
   "outputs": [
    {
     "name": "stdout",
     "output_type": "stream",
     "text": [
      "[[255 255 255 ... 255 255 255]\n",
      " [255 255 255 ... 255 255 255]\n",
      " [255 255 255 ... 255 255 255]\n",
      " ...\n",
      " [254 255 255 ... 255 255 255]\n",
      " [254 255 255 ... 255 255 255]\n",
      " [254 255 255 ... 255 255 255]]\n",
      "[[1 1 1 ... 1 1 1]\n",
      " [1 1 1 ... 1 1 1]\n",
      " [1 1 1 ... 1 1 1]\n",
      " ...\n",
      " [1 1 1 ... 1 1 1]\n",
      " [1 1 1 ... 1 1 1]\n",
      " [1 1 1 ... 1 1 1]]\n"
     ]
    }
   ],
   "source": [
    "import sklearn.preprocessing as sk\n",
    "import imageio as img\n",
    "from PIL import Image\n",
    "\n",
    "\n",
    "# Convert the image to grayscale\n",
    "im = Image.open(\"jct038_1C.jpg\")\n",
    "\n",
    "imgGray = im.convert('L')\n",
    "\n",
    "imgGray.save('test_gray.jpg')\n",
    "\n",
    "\n",
    "# Read the grayscale image using imageio\n",
    "imGray = img.imread(\"./test_gray.jpg\")\n",
    "\n",
    "print(imGray)\n",
    "\n",
    "# Binarize the image using sklearn.preprocessing with threshold=128\n",
    "binarizeIm = sk.binarize(X=imGray, threshold=100.0, copy=False)\n",
    "\n",
    "print(binarizeIm)\n",
    "\n",
    "# Saving the binarized image\n",
    "im = Image.fromarray(binarizeIm*255)\n",
    "im.save(\"./binImg.jpg\")\n"
   ]
  },
  {
   "cell_type": "code",
   "execution_count": null,
   "metadata": {},
   "outputs": [],
   "source": []
  }
 ],
 "metadata": {
  "kernelspec": {
   "display_name": "Python 3",
   "language": "python",
   "name": "python3"
  },
  "language_info": {
   "codemirror_mode": {
    "name": "ipython",
    "version": 3
   },
   "file_extension": ".py",
   "mimetype": "text/x-python",
   "name": "python",
   "nbconvert_exporter": "python",
   "pygments_lexer": "ipython3",
   "version": "3.8.5"
  }
 },
 "nbformat": 4,
 "nbformat_minor": 4
}
