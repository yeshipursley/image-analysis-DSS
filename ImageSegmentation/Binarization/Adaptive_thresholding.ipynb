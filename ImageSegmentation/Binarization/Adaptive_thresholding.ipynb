{
 "cells": [
  {
   "cell_type": "code",
   "execution_count": 30,
   "metadata": {},
   "outputs": [],
   "source": [
    "import sklearn.preprocessing as sk\n",
    "import imageio as img\n",
    "from PIL import Image\n",
    "import cv2 as cv\n",
    "\n",
    "# Convert the image to grayscale\n",
    "im = Image.open(\"jct038_1C.jpg\")\n",
    "\n",
    "imgGray = im.convert('L')\n",
    "\n",
    "imgGray.save('test_gray.jpg')\n",
    "\n",
    "# Read the grayscale image using imageio\n",
    "imGray = img.imread(\"./test_gray.jpg\")\n",
    "\n",
    "# Adaptive binarization of the image using openCV (cv2) module \n",
    "binarizeIm = cv.adaptiveThreshold(src=imGray, maxValue=255, adaptiveMethod=cv.ADAPTIVE_THRESH_GAUSSIAN_C,\n",
    "                                          thresholdType=cv.THRESH_BINARY, blockSize=39, C=15)\n",
    " \n",
    "# Saving the binarized image\n",
    "im = Image.fromarray(binarizeIm)\n",
    "im.save(\"./binImg.jpg\")"
   ]
  },
  {
   "cell_type": "code",
   "execution_count": null,
   "metadata": {},
   "outputs": [],
   "source": []
  }
 ],
 "metadata": {
  "kernelspec": {
   "display_name": "Python 3",
   "language": "python",
   "name": "python3"
  },
  "language_info": {
   "codemirror_mode": {
    "name": "ipython",
    "version": 3
   },
   "file_extension": ".py",
   "mimetype": "text/x-python",
   "name": "python",
   "nbconvert_exporter": "python",
   "pygments_lexer": "ipython3",
   "version": "3.8.5"
  }
 },
 "nbformat": 4,
 "nbformat_minor": 4
}
