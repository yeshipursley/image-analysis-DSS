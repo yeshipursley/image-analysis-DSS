{
 "cells": [
  {
   "cell_type": "code",
   "execution_count": 8,
   "metadata": {},
   "outputs": [
    {
     "name": "stderr",
     "output_type": "stream",
     "text": [
      "Processing <PIL.Image.Image image mode=RGB size=29x42 at 0x24A8C1DE640>: 100%|██| 28/28 [00:00<00:00, 246.75 Samples/s]"
     ]
    },
    {
     "name": "stdout",
     "output_type": "stream",
     "text": [
      "Initialised with 28 image(s) found.\n",
      "Output directory set to ./inputdata/output."
     ]
    },
    {
     "name": "stderr",
     "output_type": "stream",
     "text": [
      "\n"
     ]
    }
   ],
   "source": [
    "import Augmentor\n",
    "\n",
    "# Instantiates a Pipeline object pointing to a directory containing your initial image data set.\n",
    "p = Augmentor.Pipeline(\"./inputdata/\")\n",
    "\n",
    "# Performs a rotation of the images\n",
    "p.rotate(probability=1, max_left_rotation=20, max_right_rotation=20)\n",
    "\n",
    "# Downloades x number of images (the parameter)\n",
    "p.sample(28)"
   ]
  },
  {
   "cell_type": "code",
   "execution_count": null,
   "metadata": {},
   "outputs": [],
   "source": []
  }
 ],
 "metadata": {
  "kernelspec": {
   "display_name": "Python 3",
   "language": "python",
   "name": "python3"
  },
  "language_info": {
   "codemirror_mode": {
    "name": "ipython",
    "version": 3
   },
   "file_extension": ".py",
   "mimetype": "text/x-python",
   "name": "python",
   "nbconvert_exporter": "python",
   "pygments_lexer": "ipython3",
   "version": "3.8.5"
  }
 },
 "nbformat": 4,
 "nbformat_minor": 4
}
